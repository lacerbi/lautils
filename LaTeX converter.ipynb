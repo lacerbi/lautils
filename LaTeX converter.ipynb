{
 "cells": [
  {
   "cell_type": "code",
   "execution_count": 2,
   "id": "fae3a8b5-db6c-460b-bac4-977e45f6752e",
   "metadata": {},
   "outputs": [],
   "source": [
    "import os\n",
    "import re\n",
    "\n",
    "def clean_latex_file(input_path):\n",
    "    \"\"\"\n",
    "    Cleans a LaTeX file by removing comments, extracting content within \\\\begin{document} and \\\\end{document},\n",
    "    and processing figure environments to retain only captions labeled as \"Figure\".\n",
    "\n",
    "    Parameters:\n",
    "    - input_path (str): Path to the input .tex file.\n",
    "\n",
    "    Output:\n",
    "    - A .txt file with the cleaned content in the same directory as the input file.\n",
    "    \"\"\"\n",
    "    if not input_path.endswith('.tex'):\n",
    "        raise ValueError(\"Input file must have a .tex extension.\")\n",
    "\n",
    "    # Determine output path\n",
    "    base, _ = os.path.splitext(input_path)\n",
    "    output_path = f\"{base}.txt\"\n",
    "\n",
    "    # Regular expressions\n",
    "    begin_doc_pattern = re.compile(r'\\\\begin\\{document\\}')\n",
    "    end_doc_pattern = re.compile(r'\\\\end\\{document\\}')\n",
    "    begin_fig_pattern = re.compile(r'\\\\begin\\{figure(?:\\*?)\\}')\n",
    "    end_fig_pattern = re.compile(r'\\\\end\\{figure(?:\\*?)\\}')\n",
    "    caption_pattern = re.compile(r'\\\\caption\\{(.+?)\\}')\n",
    "\n",
    "    try:\n",
    "        with open(input_path, 'r', encoding='utf-8') as infile, \\\n",
    "             open(output_path, 'w', encoding='utf-8') as outfile:\n",
    "\n",
    "            in_document = False\n",
    "            in_figure = False\n",
    "\n",
    "            for line_number, line in enumerate(infile, start=1):\n",
    "                stripped_line = line.strip()\n",
    "\n",
    "                # Check for \\begin{document}\n",
    "                if not in_document:\n",
    "                    if begin_doc_pattern.search(stripped_line):\n",
    "                        in_document = True\n",
    "                    continue  # Skip lines until \\begin{document}\n",
    "\n",
    "                # Check for \\end{document}\n",
    "                if end_doc_pattern.search(stripped_line):\n",
    "                    in_document = False\n",
    "                    break  # Stop processing after \\end{document}\n",
    "\n",
    "                # Handle figure environments\n",
    "                if in_figure:\n",
    "                    if end_fig_pattern.search(stripped_line):\n",
    "                        in_figure = False\n",
    "                    else:\n",
    "                        # Look for \\caption{...}\n",
    "                        caption_match = caption_pattern.search(stripped_line)\n",
    "                        if caption_match:\n",
    "                            caption_text = caption_match.group(1).strip()\n",
    "                            outfile.write(f\"Figure: {caption_text}\\n\")\n",
    "                    continue  # Skip processing other content within figure\n",
    "\n",
    "                # Check if the line starts a figure environment\n",
    "                if begin_fig_pattern.search(stripped_line):\n",
    "                    in_figure = True\n",
    "                    continue  # Skip the \\begin{figure} line\n",
    "\n",
    "                # Remove comments: Unescaped %\n",
    "                # Split the line at the first unescaped %\n",
    "                comment_split = re.split(r'(?<!\\\\)%', line, maxsplit=1)\n",
    "                code_line = comment_split[0]\n",
    "\n",
    "                # Replace escaped percent signs with actual percent\n",
    "                code_line = code_line.replace(r'\\%', '%')\n",
    "\n",
    "                # Strip leading and trailing whitespace\n",
    "                code_line = code_line.strip()\n",
    "\n",
    "                if code_line:\n",
    "                    outfile.write(code_line + '\\n')\n",
    "\n",
    "        print(f\"Cleaned file has been written to: {output_path}\")\n",
    "\n",
    "    except FileNotFoundError:\n",
    "        print(f\"Error: The file {input_path} does not exist.\")\n",
    "    except Exception as e:\n",
    "        print(f\"An error occurred: {e}\")"
   ]
  },
  {
   "cell_type": "code",
   "execution_count": 8,
   "id": "2ce5807f-71a7-4628-a956-501e0c1a2de6",
   "metadata": {},
   "outputs": [
    {
     "name": "stdout",
     "output_type": "stream",
     "text": [
      "Cleaned file has been written to: ./maintext.txt\n"
     ]
    }
   ],
   "source": [
    "input_file = './maintext.tex'  # Replace with your .tex file path\n",
    "clean_latex_file(input_file)"
   ]
  },
  {
   "cell_type": "code",
   "execution_count": null,
   "id": "bcaa4f98-1954-464b-bd1f-bcef298a0d63",
   "metadata": {},
   "outputs": [],
   "source": []
  }
 ],
 "metadata": {
  "kernelspec": {
   "display_name": "Python 3 (ipykernel)",
   "language": "python",
   "name": "python3"
  },
  "language_info": {
   "codemirror_mode": {
    "name": "ipython",
    "version": 3
   },
   "file_extension": ".py",
   "mimetype": "text/x-python",
   "name": "python",
   "nbconvert_exporter": "python",
   "pygments_lexer": "ipython3",
   "version": "3.12.7"
  }
 },
 "nbformat": 4,
 "nbformat_minor": 5
}
